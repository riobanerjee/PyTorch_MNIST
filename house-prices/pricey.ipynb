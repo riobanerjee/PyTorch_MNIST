{
 "cells": [
  {
   "cell_type": "code",
   "execution_count": 26,
   "metadata": {},
   "outputs": [],
   "source": [
    "from tensorflow.keras.models import Sequential\n",
    "from tensorflow.keras.layers import Dense\n",
    "from tensorflow.keras.layers import GaussianDropout\n",
    "import tensorflow.keras.optimizers as optimizers\n",
    "import tensorflow as tf\n",
    "import numpy as np\n",
    "import pandas as pd\n",
    "import matplotlib.pyplot as plt\n",
    "from sklearn.model_selection import train_test_split\n",
    "from sklearn.preprocessing import LabelEncoder\n",
    "from sklearn.preprocessing import MinMaxScaler\n",
    "import sklearn.linear_model as linear_model\n",
    "# import torch\n",
    "# import torch.nn as nn\n",
    "# import torchvision.transforms as transforms\n",
    "# import torchvision.datasets as datasets\n",
    "# from torch.utils.data import DataLoader"
   ]
  },
  {
   "cell_type": "code",
   "execution_count": 8,
   "metadata": {},
   "outputs": [],
   "source": [
    "df_train = pd.read_csv('train.csv')\n",
    "df_test = pd.read_csv('test.csv')"
   ]
  },
  {
   "cell_type": "code",
   "execution_count": 9,
   "metadata": {},
   "outputs": [
    {
     "name": "stdout",
     "output_type": "stream",
     "text": [
      "Id               0\n",
      "MSSubClass       0\n",
      "LotArea          0\n",
      "Street           0\n",
      "LotShape         0\n",
      "LandContour      0\n",
      "LotConfig        0\n",
      "LandSlope        0\n",
      "Neighborhood     0\n",
      "Condition1       0\n",
      "Condition2       0\n",
      "BldgType         0\n",
      "HouseStyle       0\n",
      "OverallQual      0\n",
      "OverallCond      0\n",
      "YearBuilt        0\n",
      "YearRemodAdd     0\n",
      "RoofStyle        0\n",
      "RoofMatl         0\n",
      "ExterQual        0\n",
      "ExterCond        0\n",
      "Foundation       0\n",
      "Heating          0\n",
      "HeatingQC        0\n",
      "CentralAir       0\n",
      "1stFlrSF         0\n",
      "2ndFlrSF         0\n",
      "LowQualFinSF     0\n",
      "GrLivArea        0\n",
      "FullBath         0\n",
      "HalfBath         0\n",
      "BedroomAbvGr     0\n",
      "KitchenAbvGr     0\n",
      "TotRmsAbvGrd     0\n",
      "Fireplaces       0\n",
      "PavedDrive       0\n",
      "WoodDeckSF       0\n",
      "OpenPorchSF      0\n",
      "EnclosedPorch    0\n",
      "3SsnPorch        0\n",
      "ScreenPorch      0\n",
      "PoolArea         0\n",
      "MiscVal          0\n",
      "MoSold           0\n",
      "YrSold           0\n",
      "SaleCondition    0\n",
      "SalePrice        0\n",
      "dtype: int64\n"
     ]
    }
   ],
   "source": [
    "cols_with_nans_test = df_test.columns[df_test.isna().any()].tolist()\n",
    "cols_with_nans_train = df_train.columns[df_train.isna().any()].tolist()\n",
    "cols_with_nans = list(set(cols_with_nans_train) | set(cols_with_nans_test))\n",
    "# Drop these columns from df2\n",
    "df_train_nona = df_train.drop(columns=cols_with_nans)\n",
    "\n",
    "df_test_nona = df_test.drop(columns=cols_with_nans)\n",
    "# df_train_nona = df_nona.dropna(axis=1, how='any')\n",
    "print(df_train_nona.isna().sum())"
   ]
  },
  {
   "cell_type": "code",
   "execution_count": 11,
   "metadata": {},
   "outputs": [
    {
     "name": "stdout",
     "output_type": "stream",
     "text": [
      "Id               int64\n",
      "MSSubClass       int64\n",
      "LotArea          int64\n",
      "Street           int64\n",
      "LotShape         int64\n",
      "LandContour      int64\n",
      "LotConfig        int64\n",
      "LandSlope        int64\n",
      "Neighborhood     int64\n",
      "Condition1       int64\n",
      "Condition2       int64\n",
      "BldgType         int64\n",
      "HouseStyle       int64\n",
      "OverallQual      int64\n",
      "OverallCond      int64\n",
      "YearBuilt        int64\n",
      "YearRemodAdd     int64\n",
      "RoofStyle        int64\n",
      "RoofMatl         int64\n",
      "ExterQual        int64\n",
      "ExterCond        int64\n",
      "Foundation       int64\n",
      "Heating          int64\n",
      "HeatingQC        int64\n",
      "CentralAir       int64\n",
      "1stFlrSF         int64\n",
      "2ndFlrSF         int64\n",
      "LowQualFinSF     int64\n",
      "GrLivArea        int64\n",
      "FullBath         int64\n",
      "HalfBath         int64\n",
      "BedroomAbvGr     int64\n",
      "KitchenAbvGr     int64\n",
      "TotRmsAbvGrd     int64\n",
      "Fireplaces       int64\n",
      "PavedDrive       int64\n",
      "WoodDeckSF       int64\n",
      "OpenPorchSF      int64\n",
      "EnclosedPorch    int64\n",
      "3SsnPorch        int64\n",
      "ScreenPorch      int64\n",
      "PoolArea         int64\n",
      "MiscVal          int64\n",
      "MoSold           int64\n",
      "YrSold           int64\n",
      "SaleCondition    int64\n",
      "dtype: object\n"
     ]
    }
   ],
   "source": [
    "# Initialize LabelEncoder\n",
    "label_encoder = LabelEncoder()\n",
    "# Fit and transform the data\n",
    "for column in df_train_nona.columns:\n",
    "    if df_train_nona[column].dtype==object:\n",
    "        df_train_nona[column] = label_encoder.fit_transform(df_train_nona[column])\n",
    "        df_test_nona[column] = label_encoder.fit_transform(df_test_nona[column])\n",
    "print(df_test_nona.dtypes)"
   ]
  },
  {
   "cell_type": "code",
   "execution_count": 13,
   "metadata": {},
   "outputs": [
    {
     "name": "stdout",
     "output_type": "stream",
     "text": [
      "            Id  MSSubClass   LotArea  Street  LotShape  LandContour  \\\n",
      "0     0.000000    0.235294  0.033420     1.0       1.0          1.0   \n",
      "1     0.000685    0.000000  0.038795     1.0       1.0          1.0   \n",
      "2     0.001371    0.235294  0.046507     1.0       0.0          1.0   \n",
      "3     0.002056    0.294118  0.038561     1.0       0.0          1.0   \n",
      "4     0.002742    0.235294  0.060576     1.0       0.0          1.0   \n",
      "...        ...         ...       ...     ...       ...          ...   \n",
      "1455  0.997258    0.235294  0.030929     1.0       1.0          1.0   \n",
      "1456  0.997944    0.000000  0.055505     1.0       1.0          1.0   \n",
      "1457  0.998629    0.294118  0.036187     1.0       1.0          1.0   \n",
      "1458  0.999315    0.000000  0.039342     1.0       1.0          1.0   \n",
      "1459  1.000000    0.000000  0.040370     1.0       1.0          1.0   \n",
      "\n",
      "      LotConfig  LandSlope  Neighborhood  Condition1  ...  WoodDeckSF  \\\n",
      "0           1.0        0.0      0.208333       0.250  ...    0.000000   \n",
      "1           0.5        0.0      1.000000       0.125  ...    0.347725   \n",
      "2           1.0        0.0      0.208333       0.250  ...    0.000000   \n",
      "3           0.0        0.0      0.250000       0.250  ...    0.000000   \n",
      "4           0.5        0.0      0.625000       0.250  ...    0.224037   \n",
      "...         ...        ...           ...         ...  ...         ...   \n",
      "1455        1.0        0.0      0.333333       0.250  ...    0.000000   \n",
      "1456        1.0        0.0      0.583333       0.250  ...    0.407235   \n",
      "1457        1.0        0.0      0.250000       0.250  ...    0.000000   \n",
      "1458        1.0        0.0      0.500000       0.250  ...    0.427071   \n",
      "1459        1.0        0.0      0.291667       0.250  ...    0.858810   \n",
      "\n",
      "      OpenPorchSF  EnclosedPorch  3SsnPorch  ScreenPorch  PoolArea  MiscVal  \\\n",
      "0        0.111517       0.000000        0.0          0.0       0.0  0.00000   \n",
      "1        0.000000       0.000000        0.0          0.0       0.0  0.00000   \n",
      "2        0.076782       0.000000        0.0          0.0       0.0  0.00000   \n",
      "3        0.063985       0.492754        0.0          0.0       0.0  0.00000   \n",
      "4        0.153565       0.000000        0.0          0.0       0.0  0.00000   \n",
      "...           ...            ...        ...          ...       ...      ...   \n",
      "1455     0.073126       0.000000        0.0          0.0       0.0  0.00000   \n",
      "1456     0.000000       0.000000        0.0          0.0       0.0  0.00000   \n",
      "1457     0.109689       0.000000        0.0          0.0       0.0  0.16129   \n",
      "1458     0.000000       0.202899        0.0          0.0       0.0  0.00000   \n",
      "1459     0.124314       0.000000        0.0          0.0       0.0  0.00000   \n",
      "\n",
      "        MoSold  YrSold  SaleCondition  \n",
      "0     0.090909    0.50            0.8  \n",
      "1     0.363636    0.25            0.8  \n",
      "2     0.727273    0.50            0.8  \n",
      "3     0.090909    0.00            0.0  \n",
      "4     1.000000    0.50            0.8  \n",
      "...        ...     ...            ...  \n",
      "1455  0.636364    0.25            0.8  \n",
      "1456  0.090909    1.00            0.8  \n",
      "1457  0.363636    1.00            0.8  \n",
      "1458  0.272727    1.00            0.8  \n",
      "1459  0.454545    0.50            0.8  \n",
      "\n",
      "[1460 rows x 46 columns]\n"
     ]
    }
   ],
   "source": [
    "# Initialize MinMaxScaler\n",
    "scaler = MinMaxScaler()\n",
    "y = df_train_nona['SalePrice']\n",
    "X = df_train_nona.drop(['SalePrice'], axis=1)\n",
    "X_check = df_test_nona\n",
    "# Apply MinMaxScaler to all numerical columns\n",
    "X = pd.DataFrame(scaler.fit_transform(X), columns=X.columns)\n",
    "X_check = pd.DataFrame(scaler.fit_transform(X_check), columns=X_check.columns)\n",
    "print(X)"
   ]
  },
  {
   "cell_type": "code",
   "execution_count": 14,
   "metadata": {},
   "outputs": [
    {
     "name": "stdout",
     "output_type": "stream",
     "text": [
      "(1095, 46) (1095,) (365, 46) (365,)\n"
     ]
    }
   ],
   "source": [
    "X_train, X_test, y_train, y_test = train_test_split(X, y)\n",
    "print(X_train.shape, y_train.shape, X_test.shape, y_test.shape)"
   ]
  },
  {
   "cell_type": "code",
   "execution_count": 17,
   "metadata": {},
   "outputs": [],
   "source": [
    "clf = linear_model.LinearRegression()\n",
    "clf.fit(X_train, y_train)\n",
    "y_pred_skl = clf.predict(X_test)\n",
    "# np.sqrt(mean_squared_error(np.log(y_test), np.log(y_pred)))"
   ]
  },
  {
   "cell_type": "code",
   "execution_count": 20,
   "metadata": {},
   "outputs": [
    {
     "data": {
      "text/plain": [
       "(0.0, 1000000.0)"
      ]
     },
     "execution_count": 20,
     "metadata": {},
     "output_type": "execute_result"
    },
    {
     "data": {
      "image/png": "[encoded data removed]",
      "text/plain": [
       "<Figure size 640x480 with 1 Axes>"
      ]
     },
     "metadata": {},
     "output_type": "display_data"
    }
   ],
   "source": [
    "plt.scatter(y_pred_skl, y_test)\n",
    "plt.plot(y_pred_skl, y_pred_skl, 'r')\n",
    "plt.xlim([0,1e6])\n",
    "plt.ylim([0,1e6])"
   ]
  },
  {
   "cell_type": "code",
   "execution_count": 21,
   "metadata": {},
   "outputs": [],
   "source": [
    "y_ans_skl = clf.predict(X_check)\n",
    "df_ans_skl = pd.DataFrame({'Id': df_test.Id, 'SalePrice': y_ans_skl})"
   ]
  },
  {
   "cell_type": "code",
   "execution_count": 55,
   "metadata": {},
   "outputs": [],
   "source": [
    "X_train = np.array(X_train)\n",
    "y_train = np.array(y_train)\n",
    "X_test = np.array(X_test)\n",
    "y_test = np.array(y_test)"
   ]
  },
  {
   "cell_type": "code",
   "execution_count": 49,
   "metadata": {},
   "outputs": [],
   "source": [
    "model = Sequential([\n",
    "        Dense(128, activation='relu', input_shape=(X_train.shape[1],)),\n",
    "        Dense(64, activation='relu'), # hidden\n",
    "        Dense(1, activation='softmax'), # output\n",
    "        ])"
   ]
  },
  {
   "cell_type": "code",
   "execution_count": 52,
   "metadata": {},
   "outputs": [],
   "source": [
    "model.compile(optimizer='adam',\n",
    "              loss='mean_squared_error',\n",
    "              metrics=['mean_absolute_error'])"
   ]
  },
  {
   "cell_type": "code",
   "execution_count": 53,
   "metadata": {},
   "outputs": [
    {
     "name": "stdout",
     "output_type": "stream",
     "text": [
      "Epoch 1/50\n",
      "\u001b[1m28/28\u001b[0m \u001b[32m━━━━━━━━━━━━━━━━━━━━\u001b[0m\u001b[37m\u001b[0m \u001b[1m1s\u001b[0m 4ms/step - loss: 37970055168.0000 - mean_absolute_error: 178506.2969 - val_loss: 40237883392.0000 - val_mean_absolute_error: 181723.8750\n",
      "Epoch 2/50\n",
      "\u001b[1m28/28\u001b[0m \u001b[32m━━━━━━━━━━━━━━━━━━━━\u001b[0m\u001b[37m\u001b[0m \u001b[1m0s\u001b[0m 2ms/step - loss: 36496515072.0000 - mean_absolute_error: 176291.4844 - val_loss: 40237883392.0000 - val_mean_absolute_error: 181723.8750\n",
      "Epoch 3/50\n",
      "\u001b[1m28/28\u001b[0m \u001b[32m━━━━━━━━━━━━━━━━━━━━\u001b[0m\u001b[37m\u001b[0m \u001b[1m0s\u001b[0m 2ms/step - loss: 38117040128.0000 - mean_absolute_error: 179425.3438 - val_loss: 40237883392.0000 - val_mean_absolute_error: 181723.8750\n",
      "Epoch 4/50\n",
      "\u001b[1m28/28\u001b[0m \u001b[32m━━━━━━━━━━━━━━━━━━━━\u001b[0m\u001b[37m\u001b[0m \u001b[1m0s\u001b[0m 1ms/step - loss: 38756921344.0000 - mean_absolute_error: 180094.0781 - val_loss: 40237883392.0000 - val_mean_absolute_error: 181723.8750\n",
      "Epoch 5/50\n",
      "\u001b[1m28/28\u001b[0m \u001b[32m━━━━━━━━━━━━━━━━━━━━\u001b[0m\u001b[37m\u001b[0m \u001b[1m0s\u001b[0m 2ms/step - loss: 39044345856.0000 - mean_absolute_error: 182019.3906 - val_loss: 40237883392.0000 - val_mean_absolute_error: 181723.8750\n",
      "Epoch 6/50\n",
      "\u001b[1m28/28\u001b[0m \u001b[32m━━━━━━━━━━━━━━━━━━━━\u001b[0m\u001b[37m\u001b[0m \u001b[1m0s\u001b[0m 2ms/step - loss: 37712949248.0000 - mean_absolute_error: 178489.5938 - val_loss: 40237883392.0000 - val_mean_absolute_error: 181723.8750\n",
      "Epoch 7/50\n",
      "\u001b[1m28/28\u001b[0m \u001b[32m━━━━━━━━━━━━━━━━━━━━\u001b[0m\u001b[37m\u001b[0m \u001b[1m0s\u001b[0m 2ms/step - loss: 36030943232.0000 - mean_absolute_error: 174222.2344 - val_loss: 40237883392.0000 - val_mean_absolute_error: 181723.8750\n",
      "Epoch 8/50\n",
      "\u001b[1m28/28\u001b[0m \u001b[32m━━━━━━━━━━━━━━━━━━━━\u001b[0m\u001b[37m\u001b[0m \u001b[1m0s\u001b[0m 2ms/step - loss: 39099174912.0000 - mean_absolute_error: 181193.5312 - val_loss: 40237883392.0000 - val_mean_absolute_error: 181723.8750\n",
      "Epoch 9/50\n",
      "\u001b[1m28/28\u001b[0m \u001b[32m━━━━━━━━━━━━━━━━━━━━\u001b[0m\u001b[37m\u001b[0m \u001b[1m0s\u001b[0m 1ms/step - loss: 36915490816.0000 - mean_absolute_error: 176896.1875 - val_loss: 40237883392.0000 - val_mean_absolute_error: 181723.8750\n",
      "Epoch 10/50\n",
      "\u001b[1m28/28\u001b[0m \u001b[32m━━━━━━━━━━━━━━━━━━━━\u001b[0m\u001b[37m\u001b[0m \u001b[1m0s\u001b[0m 1ms/step - loss: 37899042816.0000 - mean_absolute_error: 178484.4062 - val_loss: 40237883392.0000 - val_mean_absolute_error: 181723.8750\n",
      "Epoch 11/50\n",
      "\u001b[1m28/28\u001b[0m \u001b[32m━━━━━━━━━━━━━━━━━━━━\u001b[0m\u001b[37m\u001b[0m \u001b[1m0s\u001b[0m 2ms/step - loss: 37755858944.0000 - mean_absolute_error: 177913.8906 - val_loss: 40237883392.0000 - val_mean_absolute_error: 181723.8750\n",
      "Epoch 12/50\n",
      "\u001b[1m28/28\u001b[0m \u001b[32m━━━━━━━━━━━━━━━━━━━━\u001b[0m\u001b[37m\u001b[0m \u001b[1m0s\u001b[0m 2ms/step - loss: 37800206336.0000 - mean_absolute_error: 178763.3125 - val_loss: 40237883392.0000 - val_mean_absolute_error: 181723.8750\n",
      "Epoch 13/50\n",
      "\u001b[1m28/28\u001b[0m \u001b[32m━━━━━━━━━━━━━━━━━━━━\u001b[0m\u001b[37m\u001b[0m \u001b[1m0s\u001b[0m 1ms/step - loss: 37997166592.0000 - mean_absolute_error: 179231.5781 - val_loss: 40237883392.0000 - val_mean_absolute_error: 181723.8750\n",
      "Epoch 14/50\n",
      "\u001b[1m28/28\u001b[0m \u001b[32m━━━━━━━━━━━━━━━━━━━━\u001b[0m\u001b[37m\u001b[0m \u001b[1m0s\u001b[0m 1ms/step - loss: 37673062400.0000 - mean_absolute_error: 178190.1875 - val_loss: 40237883392.0000 - val_mean_absolute_error: 181723.8750\n",
      "Epoch 15/50\n",
      "\u001b[1m28/28\u001b[0m \u001b[32m━━━━━━━━━━━━━━━━━━━━\u001b[0m\u001b[37m\u001b[0m \u001b[1m0s\u001b[0m 1ms/step - loss: 39017054208.0000 - mean_absolute_error: 180398.2344 - val_loss: 40237883392.0000 - val_mean_absolute_error: 181723.8750\n",
      "Epoch 16/50\n",
      "\u001b[1m28/28\u001b[0m \u001b[32m━━━━━━━━━━━━━━━━━━━━\u001b[0m\u001b[37m\u001b[0m \u001b[1m0s\u001b[0m 1ms/step - loss: 38521573376.0000 - mean_absolute_error: 179927.6719 - val_loss: 40237883392.0000 - val_mean_absolute_error: 181723.8750\n",
      "Epoch 17/50\n",
      "\u001b[1m28/28\u001b[0m \u001b[32m━━━━━━━━━━━━━━━━━━━━\u001b[0m\u001b[37m\u001b[0m \u001b[1m0s\u001b[0m 1ms/step - loss: 39614427136.0000 - mean_absolute_error: 182355.9062 - val_loss: 40237883392.0000 - val_mean_absolute_error: 181723.8750\n",
      "Epoch 18/50\n",
      "\u001b[1m28/28\u001b[0m \u001b[32m━━━━━━━━━━━━━━━━━━━━\u001b[0m\u001b[37m\u001b[0m \u001b[1m0s\u001b[0m 1ms/step - loss: 38589276160.0000 - mean_absolute_error: 181651.1250 - val_loss: 40237883392.0000 - val_mean_absolute_error: 181723.8750\n",
      "Epoch 19/50\n",
      "\u001b[1m28/28\u001b[0m \u001b[32m━━━━━━━━━━━━━━━━━━━━\u001b[0m\u001b[37m\u001b[0m \u001b[1m0s\u001b[0m 2ms/step - loss: 40897904640.0000 - mean_absolute_error: 184111.0938 - val_loss: 40237883392.0000 - val_mean_absolute_error: 181723.8750\n",
      "Epoch 20/50\n",
      "\u001b[1m28/28\u001b[0m \u001b[32m━━━━━━━━━━━━━━━━━━━━\u001b[0m\u001b[37m\u001b[0m \u001b[1m0s\u001b[0m 1ms/step - loss: 39159496704.0000 - mean_absolute_error: 181923.7031 - val_loss: 40237883392.0000 - val_mean_absolute_error: 181723.8750\n",
      "Epoch 21/50\n",
      "\u001b[1m28/28\u001b[0m \u001b[32m━━━━━━━━━━━━━━━━━━━━\u001b[0m\u001b[37m\u001b[0m \u001b[1m0s\u001b[0m 1ms/step - loss: 40103010304.0000 - mean_absolute_error: 183202.2031 - val_loss: 40237883392.0000 - val_mean_absolute_error: 181723.8750\n",
      "Epoch 22/50\n",
      "\u001b[1m28/28\u001b[0m \u001b[32m━━━━━━━━━━━━━━━━━━━━\u001b[0m\u001b[37m\u001b[0m \u001b[1m0s\u001b[0m 1ms/step - loss: 38474543104.0000 - mean_absolute_error: 179724.2031 - val_loss: 40237883392.0000 - val_mean_absolute_error: 181723.8750\n",
      "Epoch 23/50\n",
      "\u001b[1m28/28\u001b[0m \u001b[32m━━━━━━━━━━━━━━━━━━━━\u001b[0m\u001b[37m\u001b[0m \u001b[1m0s\u001b[0m 1ms/step - loss: 38344155136.0000 - mean_absolute_error: 179813.3906 - val_loss: 40237883392.0000 - val_mean_absolute_error: 181723.8750\n",
      "Epoch 24/50\n",
      "\u001b[1m28/28\u001b[0m \u001b[32m━━━━━━━━━━━━━━━━━━━━\u001b[0m\u001b[37m\u001b[0m \u001b[1m0s\u001b[0m 1ms/step - loss: 38562738176.0000 - mean_absolute_error: 181015.8594 - val_loss: 40237883392.0000 - val_mean_absolute_error: 181723.8750\n",
      "Epoch 25/50\n",
      "\u001b[1m28/28\u001b[0m \u001b[32m━━━━━━━━━━━━━━━━━━━━\u001b[0m\u001b[37m\u001b[0m \u001b[1m0s\u001b[0m 2ms/step - loss: 38829510656.0000 - mean_absolute_error: 180865.6250 - val_loss: 40237883392.0000 - val_mean_absolute_error: 181723.8750\n",
      "Epoch 26/50\n",
      "\u001b[1m28/28\u001b[0m \u001b[32m━━━━━━━━━━━━━━━━━━━━\u001b[0m\u001b[37m\u001b[0m \u001b[1m0s\u001b[0m 1ms/step - loss: 37153882112.0000 - mean_absolute_error: 177810.9844 - val_loss: 40237883392.0000 - val_mean_absolute_error: 181723.8750\n",
      "Epoch 27/50\n",
      "\u001b[1m28/28\u001b[0m \u001b[32m━━━━━━━━━━━━━━━━━━━━\u001b[0m\u001b[37m\u001b[0m \u001b[1m0s\u001b[0m 6ms/step - loss: 38464466944.0000 - mean_absolute_error: 180217.1094 - val_loss: 40237883392.0000 - val_mean_absolute_error: 181723.8750\n",
      "Epoch 28/50\n",
      "\u001b[1m28/28\u001b[0m \u001b[32m━━━━━━━━━━━━━━━━━━━━\u001b[0m\u001b[37m\u001b[0m \u001b[1m0s\u001b[0m 1ms/step - loss: 38814670848.0000 - mean_absolute_error: 181570.2812 - val_loss: 40237883392.0000 - val_mean_absolute_error: 181723.8750\n",
      "Epoch 29/50\n",
      "\u001b[1m28/28\u001b[0m \u001b[32m━━━━━━━━━━━━━━━━━━━━\u001b[0m\u001b[37m\u001b[0m \u001b[1m0s\u001b[0m 2ms/step - loss: 39330459648.0000 - mean_absolute_error: 181507.3906 - val_loss: 40237883392.0000 - val_mean_absolute_error: 181723.8750\n",
      "Epoch 30/50\n",
      "\u001b[1m28/28\u001b[0m \u001b[32m━━━━━━━━━━━━━━━━━━━━\u001b[0m\u001b[37m\u001b[0m \u001b[1m0s\u001b[0m 1ms/step - loss: 37555081216.0000 - mean_absolute_error: 177807.0625 - val_loss: 40237883392.0000 - val_mean_absolute_error: 181723.8750\n",
      "Epoch 31/50\n",
      "\u001b[1m28/28\u001b[0m \u001b[32m━━━━━━━━━━━━━━━━━━━━\u001b[0m\u001b[37m\u001b[0m \u001b[1m0s\u001b[0m 1ms/step - loss: 38145114112.0000 - mean_absolute_error: 179828.7500 - val_loss: 40237883392.0000 - val_mean_absolute_error: 181723.8750\n",
      "Epoch 32/50\n",
      "\u001b[1m28/28\u001b[0m \u001b[32m━━━━━━━━━━━━━━━━━━━━\u001b[0m\u001b[37m\u001b[0m \u001b[1m0s\u001b[0m 1ms/step - loss: 39430864896.0000 - mean_absolute_error: 182222.8906 - val_loss: 40237883392.0000 - val_mean_absolute_error: 181723.8750\n",
      "Epoch 33/50\n",
      "\u001b[1m28/28\u001b[0m \u001b[32m━━━━━━━━━━━━━━━━━━━━\u001b[0m\u001b[37m\u001b[0m \u001b[1m0s\u001b[0m 1ms/step - loss: 37944197120.0000 - mean_absolute_error: 178099.7969 - val_loss: 40237883392.0000 - val_mean_absolute_error: 181723.8750\n",
      "Epoch 34/50\n",
      "\u001b[1m28/28\u001b[0m \u001b[32m━━━━━━━━━━━━━━━━━━━━\u001b[0m\u001b[37m\u001b[0m \u001b[1m0s\u001b[0m 2ms/step - loss: 38846881792.0000 - mean_absolute_error: 181460.0469 - val_loss: 40237883392.0000 - val_mean_absolute_error: 181723.8750\n",
      "Epoch 35/50\n",
      "\u001b[1m28/28\u001b[0m \u001b[32m━━━━━━━━━━━━━━━━━━━━\u001b[0m\u001b[37m\u001b[0m \u001b[1m0s\u001b[0m 1ms/step - loss: 37168660480.0000 - mean_absolute_error: 177706.6250 - val_loss: 40237883392.0000 - val_mean_absolute_error: 181723.8750\n",
      "Epoch 36/50\n",
      "\u001b[1m28/28\u001b[0m \u001b[32m━━━━━━━━━━━━━━━━━━━━\u001b[0m\u001b[37m\u001b[0m \u001b[1m0s\u001b[0m 1ms/step - loss: 37338759168.0000 - mean_absolute_error: 178790.0938 - val_loss: 40237883392.0000 - val_mean_absolute_error: 181723.8750\n",
      "Epoch 37/50\n",
      "\u001b[1m28/28\u001b[0m \u001b[32m━━━━━━━━━━━━━━━━━━━━\u001b[0m\u001b[37m\u001b[0m \u001b[1m0s\u001b[0m 1ms/step - loss: 39467405312.0000 - mean_absolute_error: 182505.3750 - val_loss: 40237883392.0000 - val_mean_absolute_error: 181723.8750\n",
      "Epoch 38/50\n",
      "\u001b[1m28/28\u001b[0m \u001b[32m━━━━━━━━━━━━━━━━━━━━\u001b[0m\u001b[37m\u001b[0m \u001b[1m0s\u001b[0m 1ms/step - loss: 37870374912.0000 - mean_absolute_error: 179680.9062 - val_loss: 40237883392.0000 - val_mean_absolute_error: 181723.8750\n",
      "Epoch 39/50\n",
      "\u001b[1m28/28\u001b[0m \u001b[32m━━━━━━━━━━━━━━━━━━━━\u001b[0m\u001b[37m\u001b[0m \u001b[1m0s\u001b[0m 1ms/step - loss: 37734821888.0000 - mean_absolute_error: 178648.3438 - val_loss: 40237883392.0000 - val_mean_absolute_error: 181723.8750\n",
      "Epoch 40/50\n",
      "\u001b[1m28/28\u001b[0m \u001b[32m━━━━━━━━━━━━━━━━━━━━\u001b[0m\u001b[37m\u001b[0m \u001b[1m0s\u001b[0m 1ms/step - loss: 37392912384.0000 - mean_absolute_error: 177321.6406 - val_loss: 40237883392.0000 - val_mean_absolute_error: 181723.8750\n",
      "Epoch 41/50\n",
      "\u001b[1m28/28\u001b[0m \u001b[32m━━━━━━━━━━━━━━━━━━━━\u001b[0m\u001b[37m\u001b[0m \u001b[1m0s\u001b[0m 1ms/step - loss: 38383136768.0000 - mean_absolute_error: 179995.8125 - val_loss: 40237883392.0000 - val_mean_absolute_error: 181723.8750\n",
      "Epoch 42/50\n",
      "\u001b[1m28/28\u001b[0m \u001b[32m━━━━━━━━━━━━━━━━━━━━\u001b[0m\u001b[37m\u001b[0m \u001b[1m0s\u001b[0m 2ms/step - loss: 39412420608.0000 - mean_absolute_error: 182806.8750 - val_loss: 40237883392.0000 - val_mean_absolute_error: 181723.8750\n",
      "Epoch 43/50\n",
      "\u001b[1m28/28\u001b[0m \u001b[32m━━━━━━━━━━━━━━━━━━━━\u001b[0m\u001b[37m\u001b[0m \u001b[1m0s\u001b[0m 1ms/step - loss: 38732288000.0000 - mean_absolute_error: 180940.0156 - val_loss: 40237883392.0000 - val_mean_absolute_error: 181723.8750\n",
      "Epoch 44/50\n",
      "\u001b[1m28/28\u001b[0m \u001b[32m━━━━━━━━━━━━━━━━━━━━\u001b[0m\u001b[37m\u001b[0m \u001b[1m0s\u001b[0m 1ms/step - loss: 39407898624.0000 - mean_absolute_error: 182257.1406 - val_loss: 40237883392.0000 - val_mean_absolute_error: 181723.8750\n",
      "Epoch 45/50\n",
      "\u001b[1m28/28\u001b[0m \u001b[32m━━━━━━━━━━━━━━━━━━━━\u001b[0m\u001b[37m\u001b[0m \u001b[1m0s\u001b[0m 1ms/step - loss: 37975273472.0000 - mean_absolute_error: 180067.9062 - val_loss: 40237883392.0000 - val_mean_absolute_error: 181723.8750\n",
      "Epoch 46/50\n",
      "\u001b[1m28/28\u001b[0m \u001b[32m━━━━━━━━━━━━━━━━━━━━\u001b[0m\u001b[37m\u001b[0m \u001b[1m0s\u001b[0m 1ms/step - loss: 38063235072.0000 - mean_absolute_error: 179432.2344 - val_loss: 40237883392.0000 - val_mean_absolute_error: 181723.8750\n",
      "Epoch 47/50\n",
      "\u001b[1m28/28\u001b[0m \u001b[32m━━━━━━━━━━━━━━━━━━━━\u001b[0m\u001b[37m\u001b[0m \u001b[1m0s\u001b[0m 2ms/step - loss: 39128260608.0000 - mean_absolute_error: 181896.9062 - val_loss: 40237883392.0000 - val_mean_absolute_error: 181723.8750\n",
      "Epoch 48/50\n",
      "\u001b[1m28/28\u001b[0m \u001b[32m━━━━━━━━━━━━━━━━━━━━\u001b[0m\u001b[37m\u001b[0m \u001b[1m0s\u001b[0m 2ms/step - loss: 40301244416.0000 - mean_absolute_error: 183077.7656 - val_loss: 40237883392.0000 - val_mean_absolute_error: 181723.8750\n",
      "Epoch 49/50\n",
      "\u001b[1m28/28\u001b[0m \u001b[32m━━━━━━━━━━━━━━━━━━━━\u001b[0m\u001b[37m\u001b[0m \u001b[1m0s\u001b[0m 1ms/step - loss: 39392804864.0000 - mean_absolute_error: 182925.0000 - val_loss: 40237883392.0000 - val_mean_absolute_error: 181723.8750\n",
      "Epoch 50/50\n",
      "\u001b[1m28/28\u001b[0m \u001b[32m━━━━━━━━━━━━━━━━━━━━\u001b[0m\u001b[37m\u001b[0m \u001b[1m0s\u001b[0m 1ms/step - loss: 39689474048.0000 - mean_absolute_error: 183488.5000 - val_loss: 40237883392.0000 - val_mean_absolute_error: 181723.8750\n"
     ]
    },
    {
     "data": {
      "text/plain": [
       "<keras.src.callbacks.history.History at 0x30fead6d0>"
      ]
     },
     "execution_count": 53,
     "metadata": {},
     "output_type": "execute_result"
    }
   ],
   "source": [
    "model.fit(X_train, y_train, epochs=50, batch_size=32, validation_split=0.2, verbose=1)"
   ]
  },
  {
   "cell_type": "code",
   "execution_count": 56,
   "metadata": {},
   "outputs": [
    {
     "name": "stdout",
     "output_type": "stream",
     "text": [
      "Test Loss (MSE): 38823157760.0\n",
      "Test MAE: 180592.5\n"
     ]
    }
   ],
   "source": [
    "test_loss, test_mae = model.evaluate(X_test, y_test, verbose=0)\n",
    "print(f\"Test Loss (MSE): {test_loss}\")\n",
    "print(f\"Test MAE: {test_mae}\")"
   ]
  },
  {
   "cell_type": "code",
   "execution_count": 58,
   "metadata": {},
   "outputs": [
    {
     "name": "stdout",
     "output_type": "stream",
     "text": [
      "\u001b[1m12/12\u001b[0m \u001b[32m━━━━━━━━━━━━━━━━━━━━\u001b[0m\u001b[37m\u001b[0m \u001b[1m0s\u001b[0m 608us/step\n"
     ]
    }
   ],
   "source": [
    "y_pred_keras = model.predict(X_test)"
   ]
  },
  {
   "cell_type": "code",
   "execution_count": 61,
   "metadata": {},
   "outputs": [
    {
     "data": {
      "text/plain": [
       "[<matplotlib.lines.Line2D at 0x311dd2050>]"
      ]
     },
     "execution_count": 61,
     "metadata": {},
     "output_type": "execute_result"
    },
    {
     "data": {
      "image/png": "[encoded data removed]",
      "text/plain": [
       "<Figure size 640x480 with 1 Axes>"
      ]
     },
     "metadata": {},
     "output_type": "display_data"
    }
   ],
   "source": [
    "# plt.scatter(y_pred_skl, y_test)\n",
    "# plt.plot(y_pred_skl, y_pred_skl, 'r')\n",
    "plt.plot(y_pred_keras, y_test, 'g')\n",
    "# plt.xlim([0,1e6])\n",
    "# plt.ylim([0,1e6])"
   ]
  },
  {
   "cell_type": "code",
   "execution_count": null,
   "metadata": {},
   "outputs": [],
   "source": []
  }
 ],
 "metadata": {
  "kernelspec": {
   "display_name": "mlenv",
   "language": "python",
   "name": "python3"
  },
  "language_info": {
   "codemirror_mode": {
    "name": "ipython",
    "version": 3
   },
   "file_extension": ".py",
   "mimetype": "text/x-python",
   "name": "python",
   "nbconvert_exporter": "python",
   "pygments_lexer": "ipython3",
   "version": "3.11.10"
  }
 },
 "nbformat": 4,
 "nbformat_minor": 2
}
